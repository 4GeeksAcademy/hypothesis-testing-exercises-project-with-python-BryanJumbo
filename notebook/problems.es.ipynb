{
 "cells": [
  {
   "cell_type": "markdown",
   "id": "d9d036c6",
   "metadata": {},
   "source": [
    "# Problemas de prueba de hipótesis"
   ]
  },
  {
   "cell_type": "markdown",
   "id": "d157c4db",
   "metadata": {},
   "source": [
    "## Ejercicio 1\n",
    "\n",
    "Usted es un nutricionista que investiga dos tipos diferentes de dietas para ver si existe una diferencia significativa en la pérdida de peso después de un mes. Eliges dos grupos aleatorios de personas; un grupo sigue la primera dieta y el otro sigue la segunda. Al final del mes, se registra la pérdida de peso (en kg) de cada persona:\n",
    "\n",
    "| Diet 1 | Diet 2 |\n",
    "|:-------|:-------|\n",
    "| 2.0 | 3.0 |\n",
    "| 2.5 | 3.2 |\n",
    "| 3.0 | 3.1 |\n",
    "| 2.8 | 2.9 |\n",
    "| 2.3 | 2.8 |\n",
    "| 2.7 | 3.0 |\n",
    "| 2.5 | 3.2 |\n",
    "\n",
    "Con estos datos se busca responder a la siguiente pregunta: ¿Existe una diferencia significativa en la pérdida de peso promedio entre las personas que siguieron la primera dieta y las que siguieron la segunda dieta?\n",
    "\n",
    "Para sacar conclusiones, siga los siguientes puntos:\n",
    "\n",
    "-Enunciar la hipótesis: hipótesis nula y alternativa.\n",
    "-Realizar la prueba para comprobar la hipótesis. Puede utilizar la prueba t de Student.\n",
    "-Analizar las conclusiones."
   ]
  },
  {
   "cell_type": "markdown",
   "id": "c962e778",
   "metadata": {},
   "source": [
    "Hipotesis nula: No hay una perdida significativa entre las personas que siguieron la primera dieta y la segunda\n",
    "\n",
    "Hipotesis alternativa: Hay una perdida significativa entre las personas que siguieron la primera dieta y la segunda"
   ]
  },
  {
   "cell_type": "code",
   "execution_count": 4,
   "id": "8e0f3cf0",
   "metadata": {},
   "outputs": [
    {
     "name": "stdout",
     "output_type": "stream",
     "text": [
      "t-value: -3.5383407969933938\n",
      "p-value: 0.004083270191713912\n",
      "Se acepta la hipotesis Alternativa y si hay perdida significativa entre ambos grupos\n"
     ]
    }
   ],
   "source": [
    "# TODO\n",
    "import scipy.stats as stats\n",
    "\n",
    "diet_1 = [2.0, 2.5, 3.0, 2.8, 2.3, 2.7, 2.5]\n",
    "diet_2 = [3.0, 3.2, 3.1, 2.9, 2.8, 3.0, 3.2]\n",
    "alpha = 0.05\n",
    "\n",
    "t_value, p_value = stats.ttest_ind(diet_1, diet_2)\n",
    "\n",
    "print(f\"t-value: {t_value}\")\n",
    "print(f\"p-value: {p_value}\")\n",
    "\n",
    "if p_value < alpha:\n",
    "    print(\"Se acepta la hipotesis Alternativa y si hay perdida significativa entre ambos grupos\")\n",
    "else: \n",
    "    print(\"Se acepta la hipotesis Nula y no hay perdida significativa entre ambos grupos\")\n"
   ]
  },
  {
   "cell_type": "markdown",
   "id": "194ab486",
   "metadata": {},
   "source": [
    "Al realizar las pruebas se hace un análisis de que tan casual o no es los datos entre las dos dietas. En este caso usamos 0.05 que se traduce como un  limite de 5% de probabilidad de margen de error para decir que hay una diferencia real.\n",
    "El valor de P esta en menos de esta probabilidad lo que demuestra que los datos sean pura casualidad es muy baja.\n",
    "En conclusión es poco probable que los dos grupos de dietas sean iguales descartando la hipótesis nula y aceptar la alternativa que explica que si hay diferencia significativa."
   ]
  },
  {
   "cell_type": "markdown",
   "id": "f432e18e",
   "metadata": {},
   "source": [
    "## ANOVA\n",
    "\n",
    "**ANOVA** (*Analysis of Variance - Análisis de variación*) Es una técnica estadística utilizada para comparar las medidas de dos o más grupos. La idea detrás de ANOVA es descomponer la variabilidad total de los datos en dos componentes: variabilidad entre grupos y variabilidad dentro de los grupos:\n",
    "\n",
    "- **Variabilidad entre grupos**: Esta variabilidad se refiere a las diferencias entre las medias del grupo. Si esta variabilidad es considerablemente mayor que la variabilidad dentro del grupo, podría ser una indicación de que al menos una de las medias del grupo es diferente.\n",
    "- **Variabilidad dentro del grupo**: Esta variabilidad se refiere a la dispersión de los datos dentro de cada grupo. Si todos los grupos tienen una variabilidad similar, entonces cualquier diferencia notable en las medias de los grupos podría considerarse significativa.\n",
    "\n",
    "Las hipótesis en ANOVA suelen incluir:\n",
    "\n",
    "- **Hipótesis nula** ($H₀$): Las medias de todos los grupos son iguales.\n",
    "- **Hipótesis alternativa** ($H₁$): Al menos una de las medias del grupo es diferente.\n",
    "\n",
    "Si el resultado de la prueba ANOVA es significativo (por ejemplo, un valor p inferior a un umbral como 0,05), esto sugiere que al menos la media de un grupo es diferente."
   ]
  },
  {
   "cell_type": "markdown",
   "id": "fc5f3721",
   "metadata": {},
   "source": [
    "## Ejercicio 2\n",
    "\n",
    "Un agricultor decide probar tres tipos diferentes de fertilizantes para determinar si alguno es superior en términos de producción de maíz. El agricultor planta maíz en 15 parcelas idénticas y utiliza los tres fertilizantes (5 parcelas para cada tipo). Al final de la temporada mide el rendimiento de maíz (en kg) de cada parcela, con el siguiente resultado:\n",
    "\n",
    "| Fertilizante 1 | Fertilizante 2 | Fertilizante 3 |\n",
    "|:-------------|:-------------|:-------------|\n",
    "| 20 | 22 | 24 |\n",
    "| 21 | 21 | 23 |\n",
    "| 20 | 23 | 22 |\n",
    "| 19 | 22 | 23 |\n",
    "| 20 | 21 | 24 |\n",
    "\n",
    "Con estos datos busca responder la siguiente pregunta: ¿Existe una diferencia significativa en el rendimiento promedio del maíz entre los tres tipos de fertilizantes?\n",
    "\n",
    "Para ayudarte, sigue los siguientes puntos:\n",
    "\n",
    "-Enunciar la hipótesis: hipótesis nula y alternativa.\n",
    "-Realizar la prueba ANOVA.\n",
    "-Analizar las conclusiones.\n",
    "-Si un fertilizante es mejor que otro, ¿cómo podemos saberlo?"
   ]
  },
  {
   "cell_type": "markdown",
   "id": "0917f9fe",
   "metadata": {},
   "source": [
    "Hipotesis Nula: No hay diferencia significativa en el rendimiento del maíz debido a los fertilizantes\n",
    "\n",
    "Hipotesis Alternativa: Hay diferencia significativa en el rendimiento del maíz debido a los fertilizantes"
   ]
  },
  {
   "cell_type": "code",
   "execution_count": 6,
   "id": "eecad0ca",
   "metadata": {},
   "outputs": [
    {
     "name": "stdout",
     "output_type": "stream",
     "text": [
      "t-value: 20.31578947368421\n",
      "p-value: 0.000140478247931904\n",
      "Se acepta la hipotesis Alternativa y si hay diferencia significativa en el rendimiento del maíz debido a los fertilizantes\n"
     ]
    }
   ],
   "source": [
    "# TODO\n",
    "import scipy.stats as stats\n",
    "\n",
    "fer1 = [20, 21, 20, 19, 20]\n",
    "fer2 = [22, 21, 23, 22, 21]\n",
    "fer3 = [24, 23, 22, 23, 24]\n",
    "alpha = 0.05\n",
    "\n",
    "t_value, p_value = stats.f_oneway(fer1, fer2, fer3)\n",
    "\n",
    "print(f\"t-value: {t_value}\")\n",
    "print(f\"p-value: {p_value}\")\n",
    "\n",
    "if p_value < alpha:\n",
    "    print(\"Se acepta la hipotesis Alternativa y si hay diferencia significativa en el rendimiento del maíz debido a los fertilizantes\")\n",
    "else: \n",
    "    print(\"Se acepta la hipotesis Nula y no hay diferencia significativa en el rendimiento del maíz debido a los fertilizantes\")\n"
   ]
  },
  {
   "cell_type": "markdown",
   "id": "8e41990b",
   "metadata": {},
   "source": [
    "Entre la prueba de los 3 fertilizantes se saco una probabilidad muy baja, mucho menor al 5% por lo que se confirma que si hay variación entre estos y que al menos uno de los fertilizantes tiene un rendimiento más significativo que los otros."
   ]
  },
  {
   "cell_type": "markdown",
   "id": "86597d15",
   "metadata": {},
   "source": [
    "Para comprobar que fertilizante es mejor usamos la prueba Turkey, se combinan los datos y se analizan en un DataFrame."
   ]
  },
  {
   "cell_type": "code",
   "execution_count": 12,
   "id": "3dcccf99",
   "metadata": {},
   "outputs": [
    {
     "name": "stdout",
     "output_type": "stream",
     "text": [
      "Multiple Comparison of Means - Tukey HSD, FWER=0.05\n",
      "==================================================\n",
      "group1 group2 meandiff p-adj  lower  upper  reject\n",
      "--------------------------------------------------\n",
      "    F1     F2      1.8 0.0099 0.4572 3.1428   True\n",
      "    F1     F3      3.2 0.0001 1.8572 4.5428   True\n",
      "    F2     F3      1.4 0.0409 0.0572 2.7428   True\n",
      "--------------------------------------------------\n"
     ]
    }
   ],
   "source": [
    "import numpy as np\n",
    "from statsmodels.stats.multicomp import pairwise_tukeyhsd\n",
    "\n",
    "datos = np.concatenate([fer1, fer2, fer3])\n",
    "grupos = [\"F1\"] * 5 + [\"F2\"] * 5 + [\"F3\"] * 5 #Se le asigna etiquetas a cada fertilizante\n",
    "\n",
    "resultado = pairwise_tukeyhsd(datos, grupos, alpha = 0.05)\n",
    "print(resultado)"
   ]
  },
  {
   "cell_type": "markdown",
   "id": "33468d12",
   "metadata": {},
   "source": [
    "En cada grupo de fertilizantes la diferencia es significativa viendo que el valor de p es menor al 5% y el reject marcado como True.\n",
    "El mejor fetilizante parece ser el 3, esto debido a que en las segundas filas que son en las que se le compara con las otras dos se ve que la diferencia de media (meandiff) siempre es mayor y positivo dando muestra que el segundo grupo (group2) es mejor, y al ser el que tiene mayor comparación positiva es el de mejor rendimiento, y por consecuencia parece que el de menor rendimiento es el fertilizante 1."
   ]
  }
 ],
 "metadata": {
  "kernelspec": {
   "display_name": "Python 3",
   "language": "python",
   "name": "python3"
  },
  "language_info": {
   "codemirror_mode": {
    "name": "ipython",
    "version": 3
   },
   "file_extension": ".py",
   "mimetype": "text/x-python",
   "name": "python",
   "nbconvert_exporter": "python",
   "pygments_lexer": "ipython3",
   "version": "3.11.4"
  }
 },
 "nbformat": 4,
 "nbformat_minor": 5
}
